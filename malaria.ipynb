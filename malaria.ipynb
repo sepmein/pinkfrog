{
 "cells": [
  {
   "cell_type": "code",
   "execution_count": 1,
   "id": "265d8b08-a42a-4eeb-8e18-b84d398952fb",
   "metadata": {},
   "outputs": [],
   "source": [
    "import main as pf\n",
    "import tensorflow as tf\n",
    "import tensorflow_probability as tfp"
   ]
  },
  {
   "cell_type": "code",
   "execution_count": 2,
   "id": "0a435808-f72c-46e1-ba59-c13507644665",
   "metadata": {},
   "outputs": [],
   "source": [
    "Uganda_population = pf.TargetGroup('Uganda_population', 10)"
   ]
  },
  {
   "cell_type": "code",
   "execution_count": 3,
   "id": "5d3d7f35-aef5-4494-872d-a9d80476e233",
   "metadata": {},
   "outputs": [
    {
     "data": {
      "text/plain": [
       "10"
      ]
     },
     "execution_count": 3,
     "metadata": {},
     "output_type": "execute_result"
    }
   ],
   "source": [
    "Uganda_population.n"
   ]
  },
  {
   "cell_type": "code",
   "execution_count": 4,
   "id": "aec3cdcc-216a-431b-a289-3ba0c8478c05",
   "metadata": {},
   "outputs": [],
   "source": [
    "age = pf.State(name='age',\n",
    "                 transistor= pf.Transistor.add(number=1),\n",
    "                 generator= tfp.distributions.NegativeBinomial(total_count=100, probs=0.4).sample\n",
    "                )"
   ]
  },
  {
   "cell_type": "code",
   "execution_count": 5,
   "id": "7fbe8a6f-8dc4-459a-9239-bfa06c9d32ac",
   "metadata": {},
   "outputs": [],
   "source": [
    "Uganda_population.add_state(age)"
   ]
  },
  {
   "cell_type": "code",
   "execution_count": 6,
   "id": "a9117298",
   "metadata": {},
   "outputs": [],
   "source": [
    "Uganda_population.next()"
   ]
  },
  {
   "cell_type": "code",
   "execution_count": 12,
   "id": "84b062ce",
   "metadata": {},
   "outputs": [
    {
     "data": {
      "text/plain": [
       "{'name': 'age',\n",
       " 'index': 1,\n",
       " 'transistor': <function main.Transistor.add.<locals>.returned_add(tensor, tensor_slice_index)>}"
      ]
     },
     "execution_count": 12,
     "metadata": {},
     "output_type": "execute_result"
    }
   ],
   "source": [
    "Uganda_population.state['age']"
   ]
  },
  {
   "cell_type": "code",
   "execution_count": 13,
   "id": "5bac21c0",
   "metadata": {},
   "outputs": [
    {
     "data": {
      "text/plain": [
       "<tf.Tensor: shape=(10,), dtype=float32, numpy=array([60., 58., 73., 67., 54., 69., 63., 59., 65., 69.], dtype=float32)>"
      ]
     },
     "execution_count": 13,
     "metadata": {},
     "output_type": "execute_result"
    }
   ],
   "source": [
    "Uganda_population.tensor"
   ]
  },
  {
   "cell_type": "code",
   "execution_count": 14,
   "id": "487f414e",
   "metadata": {},
   "outputs": [],
   "source": [
    "Uganda_population.next()"
   ]
  },
  {
   "cell_type": "code",
   "execution_count": 15,
   "id": "a21afec8",
   "metadata": {},
   "outputs": [
    {
     "data": {
      "text/plain": [
       "<tf.Tensor: shape=(10,), dtype=float32, numpy=array([61., 59., 74., 68., 55., 70., 64., 60., 66., 70.], dtype=float32)>"
      ]
     },
     "execution_count": 15,
     "metadata": {},
     "output_type": "execute_result"
    }
   ],
   "source": [
    "Uganda_population.tensor"
   ]
  },
  {
   "cell_type": "code",
   "execution_count": null,
   "id": "9908187c",
   "metadata": {},
   "outputs": [],
   "source": []
  }
 ],
 "metadata": {
  "kernelspec": {
   "display_name": "Python 3",
   "language": "python",
   "name": "python3"
  },
  "language_info": {
   "codemirror_mode": {
    "name": "ipython",
    "version": 3
   },
   "file_extension": ".py",
   "mimetype": "text/x-python",
   "name": "python",
   "nbconvert_exporter": "python",
   "pygments_lexer": "ipython3",
   "version": "3.8.7"
  },
  "widgets": {
   "application/vnd.jupyter.widget-state+json": {
    "state": {},
    "version_major": 2,
    "version_minor": 0
   }
  }
 },
 "nbformat": 4,
 "nbformat_minor": 5
}
