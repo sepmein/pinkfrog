{
 "cells": [
  {
   "cell_type": "code",
   "execution_count": 1,
   "id": "265d8b08-a42a-4eeb-8e18-b84d398952fb",
   "metadata": {},
   "outputs": [],
   "source": [
    "import main as pf\n",
    "import tensorflow as tf\n",
    "import tensorflow_probability as tfp"
   ]
  },
  {
   "cell_type": "code",
   "execution_count": 2,
   "id": "0a435808-f72c-46e1-ba59-c13507644665",
   "metadata": {},
   "outputs": [],
   "source": [
    "Uganda_population = pf.TargetGroup('Uganda_population', 10)"
   ]
  },
  {
   "cell_type": "code",
   "execution_count": 3,
   "id": "5d3d7f35-aef5-4494-872d-a9d80476e233",
   "metadata": {},
   "outputs": [
    {
     "data": {
      "text/plain": [
       "10"
      ]
     },
     "execution_count": 3,
     "metadata": {},
     "output_type": "execute_result"
    }
   ],
   "source": [
    "Uganda_population.n"
   ]
  },
  {
   "cell_type": "code",
   "execution_count": 4,
   "id": "aec3cdcc-216a-431b-a289-3ba0c8478c05",
   "metadata": {},
   "outputs": [],
   "source": [
    "age = pf.State(name='age',\n",
    "                 transistor= pf.Transistor.add(number=1),\n",
    "                 generator= tfp.distributions.NegativeBinomial(total_count=100, probs=0.4).sample\n",
    "                )"
   ]
  },
  {
   "cell_type": "code",
   "execution_count": 5,
   "id": "7fbe8a6f-8dc4-459a-9239-bfa06c9d32ac",
   "metadata": {},
   "outputs": [],
   "source": [
    "Uganda_population.add_state(age)"
   ]
  },
  {
   "cell_type": "code",
   "execution_count": 6,
   "id": "4767369d",
   "metadata": {},
   "outputs": [],
   "source": [
    "Uganda_population.next()"
   ]
  },
  {
   "cell_type": "code",
   "execution_count": 12,
   "id": "e711a499",
   "metadata": {},
   "outputs": [
    {
     "data": {
      "text/plain": [
       "{'name': 'age',\n",
       " 'index': 1,\n",
       " 'transistor': <function main.Transistor.add.<locals>.returned_add(tensor, tensor_slice_index)>}"
      ]
     },
     "execution_count": 12,
     "metadata": {},
     "output_type": "execute_result"
    }
   ],
   "source": [
    "Uganda_population.state['age']"
   ]
  },
  {
   "cell_type": "code",
   "execution_count": 13,
   "id": "0220bace",
   "metadata": {},
   "outputs": [
    {
     "data": {
      "text/plain": [
       "<tf.Tensor: shape=(10,), dtype=float32, numpy=array([60., 58., 73., 67., 54., 69., 63., 59., 65., 69.], dtype=float32)>"
      ]
     },
     "execution_count": 13,
     "metadata": {},
     "output_type": "execute_result"
    }
   ],
   "source": [
    "Uganda_population.tensor"
   ]
  },
  {
   "cell_type": "code",
   "execution_count": 14,
   "id": "92846d9c",
   "metadata": {},
   "outputs": [],
   "source": [
    "Uganda_population.next()"
   ]
  },
  {
   "cell_type": "code",
   "execution_count": 15,
   "id": "e66690ca",
   "metadata": {},
   "outputs": [
    {
     "data": {
      "text/plain": [
       "<tf.Tensor: shape=(10,), dtype=float32, numpy=array([61., 59., 74., 68., 55., 70., 64., 60., 66., 70.], dtype=float32)>"
      ]
     },
     "execution_count": 15,
     "metadata": {},
     "output_type": "execute_result"
    }
   ],
   "source": [
    "Uganda_population.tensor"
   ]
  },
  {
   "cell_type": "code",
   "execution_count": 22,
   "id": "b2a6896e",
   "metadata": {},
   "outputs": [],
   "source": [
    "Uganda_population.add_state(age)"
   ]
  },
  {
   "cell_type": "code",
   "execution_count": 23,
   "id": "18ce5c61",
   "metadata": {},
   "outputs": [
    {
     "data": {
      "text/plain": [
       "{'age': {'name': 'age',\n",
       "  'index': 1,\n",
       "  'transistor': <function main.Transistor.add.<locals>.returned_add(tensor, tensor_slice_index)>}}"
      ]
     },
     "execution_count": 23,
     "metadata": {},
     "output_type": "execute_result"
    }
   ],
   "source": [
    "Uganda_population.state"
   ]
  },
  {
   "cell_type": "code",
   "execution_count": 24,
   "id": "b256b3f0",
   "metadata": {},
   "outputs": [
    {
     "data": {
      "text/plain": [
       "<tf.Tensor: shape=(10,), dtype=float32, numpy=array([61., 59., 74., 68., 55., 70., 64., 60., 66., 70.], dtype=float32)>"
      ]
     },
     "execution_count": 24,
     "metadata": {},
     "output_type": "execute_result"
    }
   ],
   "source": [
    "Uganda_population.tensor"
   ]
  },
  {
   "cell_type": "code",
   "execution_count": 27,
   "id": "ce8aaa7e",
   "metadata": {},
   "outputs": [],
   "source": [
    "test = pf.State(name='test',\n",
    "                 transistor= pf.Transistor.add(number=1),\n",
    "                 generator= tfp.distributions.NegativeBinomial(total_count=100, probs=0.4).sample\n",
    "                )"
   ]
  },
  {
   "cell_type": "code",
   "execution_count": 28,
   "id": "8cd73f0b",
   "metadata": {},
   "outputs": [
    {
     "data": {
      "text/plain": [
       "{'age': {'name': 'age',\n",
       "  'index': 1,\n",
       "  'transistor': <function main.Transistor.add.<locals>.returned_add(tensor, tensor_slice_index)>},\n",
       " 'test': {'name': 'test',\n",
       "  'index': 1,\n",
       "  'transistor': <function main.Transistor.add.<locals>.returned_add(tensor, tensor_slice_index)>}}"
      ]
     },
     "execution_count": 28,
     "metadata": {},
     "output_type": "execute_result"
    }
   ],
   "source": [
    "Uganda_population.add_state(test)\n",
    "Uganda_population.state"
   ]
  },
  {
   "cell_type": "code",
   "execution_count": 29,
   "id": "41cbac25",
   "metadata": {},
   "outputs": [
    {
     "data": {
      "text/plain": [
       "<tf.Tensor: shape=(10,), dtype=float32, numpy=array([61., 59., 74., 68., 55., 70., 64., 60., 66., 70.], dtype=float32)>"
      ]
     },
     "execution_count": 29,
     "metadata": {},
     "output_type": "execute_result"
    }
   ],
   "source": [
    "Uganda_population.tensor"
   ]
  },
  {
   "cell_type": "code",
   "execution_count": 31,
   "id": "18c323bf",
   "metadata": {},
   "outputs": [
    {
     "data": {
      "text/plain": [
       "0"
      ]
     },
     "execution_count": 31,
     "metadata": {},
     "output_type": "execute_result"
    }
   ],
   "source": [
    "tf.ones()"
   ]
  },
  {
   "cell_type": "code",
   "execution_count": null,
   "id": "ffdec513",
   "metadata": {},
   "outputs": [],
   "source": []
  }
 ],
 "metadata": {
  "kernelspec": {
   "display_name": "Python 3",
   "language": "python",
   "name": "python3"
  },
  "language_info": {
   "codemirror_mode": {
    "name": "ipython",
    "version": 3
   },
   "file_extension": ".py",
   "mimetype": "text/x-python",
   "name": "python",
   "nbconvert_exporter": "python",
   "pygments_lexer": "ipython3",
   "version": "3.8.7"
  },
  "widgets": {
   "application/vnd.jupyter.widget-state+json": {
    "state": {},
    "version_major": 2,
    "version_minor": 0
   }
  }
 },
 "nbformat": 4,
 "nbformat_minor": 5
}