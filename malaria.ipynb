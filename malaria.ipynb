{
 "cells": [
  {
   "cell_type": "code",
   "execution_count": 1,
   "id": "265d8b08-a42a-4eeb-8e18-b84d398952fb",
   "metadata": {},
   "outputs": [],
   "source": [
    "import main as pf\n",
    "import tensorflow as tf\n",
    "import tensorflow_probability as tfp"
   ]
  },
  {
   "cell_type": "code",
   "execution_count": 2,
   "id": "0a435808-f72c-46e1-ba59-c13507644665",
   "metadata": {},
   "outputs": [],
   "source": [
    "Uganda_population = pf.TargetGroup('Uganda_population', 10)"
   ]
  },
  {
   "cell_type": "code",
   "execution_count": 3,
   "id": "5d3d7f35-aef5-4494-872d-a9d80476e233",
   "metadata": {},
   "outputs": [
    {
     "data": {
      "text/plain": "10"
     },
     "execution_count": 3,
     "metadata": {},
     "output_type": "execute_result"
    }
   ],
   "source": [
    "Uganda_population.n"
   ]
  },
  {
   "cell_type": "code",
   "execution_count": 4,
   "id": "aec3cdcc-216a-431b-a289-3ba0c8478c05",
   "metadata": {},
   "outputs": [],
   "source": [
    "age = pf.State(name='age',\n",
    "                 transistor= pf.Transistor.add(number=1),\n",
    "                 generator= tfp.distributions.NegativeBinomial(total_count=100, probs=0.4).sample\n",
    "                )"
   ]
  },
  {
   "cell_type": "code",
   "execution_count": 5,
   "id": "7fbe8a6f-8dc4-459a-9239-bfa06c9d32ac",
   "metadata": {},
   "outputs": [
    {
     "name": "stdout",
     "output_type": "stream",
     "text": [
      "tf.Tensor([79. 56. 62. 77. 83. 56. 67. 62. 69. 48.], shape=(10,), dtype=float32)\n",
      "tf.Tensor([79. 56. 62. 77. 83. 56. 67. 62. 69. 48.], shape=(10,), dtype=float32)\n"
     ]
    }
   ],
   "source": [
    "Uganda_population.add_state(age)"
   ]
  },
  {
   "cell_type": "code",
   "execution_count": 6,
   "id": "0325406f-581a-459f-8013-c2b82fa111e9",
   "metadata": {},
   "outputs": [
    {
     "data": {
      "text/plain": "<tf.Tensor: shape=(10,), dtype=float32, numpy=array([66., 67., 70., 64., 53., 60., 64., 69., 83., 71.], dtype=float32)>"
     },
     "execution_count": 6,
     "metadata": {},
     "output_type": "execute_result"
    }
   ],
   "source": [
    "Uganda_population.tensor"
   ]
  },
  {
   "cell_type": "code",
   "execution_count": 10,
   "id": "eae1fc97-a5b2-4946-b11a-40e1e8095704",
   "metadata": {},
   "outputs": [
    {
     "name": "stdout",
     "output_type": "stream",
     "text": [
      "tf.Tensor([66. 71. 70. 64. 53. 60. 64. 69. 83. 71.], shape=(10,), dtype=float32)\n"
     ]
    }
   ],
   "source": []
  },
  {
   "cell_type": "code",
   "execution_count": 13,
   "id": "d17fd6a6-a355-4cf0-872c-af1fcaea89a9",
   "metadata": {},
   "outputs": [
    {
     "data": {
      "text/plain": "<tf.Tensor: shape=(10,), dtype=float32, numpy=array([54., 85., 56., 64., 42., 73., 74., 64., 65., 92.], dtype=float32)>"
     },
     "execution_count": 13,
     "metadata": {},
     "output_type": "execute_result"
    }
   ],
   "source": [
    "Uganda_population.tensor"
   ]
  },
  {
   "cell_type": "code",
   "execution_count": 14,
   "id": "81d0981f-8863-4cd2-b8c6-9f8c354b0d20",
   "metadata": {},
   "outputs": [
    {
     "name": "stdout",
     "output_type": "stream",
     "text": [
      "age\n"
     ]
    }
   ],
   "source": [
    "for key, value in Uganda_population.state.items():\n",
    "    print(value['name'])"
   ]
  },
  {
   "cell_type": "code",
   "execution_count": 17,
   "id": "fd03c30b-0277-45b9-a99e-7b367459e2dc",
   "metadata": {
    "pycharm": {
     "name": "#%%\n"
    }
   },
   "outputs": [
    {
     "data": {
      "text/plain": "<tf.Tensor: shape=(1, 10), dtype=float32, numpy=array([[79., 56., 62., 77., 83., 56., 67., 62., 69., 48.]], dtype=float32)>"
     },
     "execution_count": 17,
     "metadata": {},
     "output_type": "execute_result"
    }
   ],
   "source": [
    "a = tf.constant([79.,56.,62.,77.,83.,56.,67.,62.,69.,48.])\n",
    "tf.reshape(a, [1, -1])"
   ]
  },
  {
   "cell_type": "code",
   "execution_count": null,
   "outputs": [],
   "source": [],
   "metadata": {
    "collapsed": false,
    "pycharm": {
     "name": "#%%"
    }
   }
  }
 ],
 "metadata": {
  "kernelspec": {
   "display_name": "Python 3",
   "language": "python",
   "name": "python3"
  },
  "language_info": {
   "codemirror_mode": {
    "name": "ipython",
    "version": 3
   },
   "file_extension": ".py",
   "mimetype": "text/x-python",
   "name": "python",
   "nbconvert_exporter": "python",
   "pygments_lexer": "ipython3",
   "version": "3.8.7"
  },
  "widgets": {
   "application/vnd.jupyter.widget-state+json": {
    "state": {},
    "version_major": 2,
    "version_minor": 0
   }
  }
 },
 "nbformat": 4,
 "nbformat_minor": 5
}